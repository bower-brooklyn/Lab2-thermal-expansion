{
 "cells": [
  {
   "cell_type": "code",
   "execution_count": 106,
   "metadata": {},
   "outputs": [],
   "source": [
    "import numpy as np"
   ]
  },
  {
   "cell_type": "code",
   "execution_count": 107,
   "metadata": {},
   "outputs": [],
   "source": [
    "def colinear(deltL,L,T):\n",
    "    alpha = deltL/(L*(T))\n",
    "    return alpha"
   ]
  },
  {
   "cell_type": "code",
   "execution_count": 108,
   "metadata": {},
   "outputs": [],
   "source": [
    "def rule3(dA,dB):\n",
    "    dQ = np.sqrt(dA**2+dB**2)\n",
    "    return dQ"
   ]
  },
  {
   "cell_type": "code",
   "execution_count": 109,
   "metadata": {},
   "outputs": [],
   "source": [
    "def rule4(dA,dB,dC,q,a,b,c):\n",
    "    dU = np.sqrt((1*(dA/a))**2+(-1*(dB/b))**2+(-1*(dC/c))**2)*abs(q)\n",
    "    return dU"
   ]
  },
  {
   "cell_type": "code",
   "execution_count": 110,
   "metadata": {},
   "outputs": [
    {
     "name": "stdout",
     "output_type": "stream",
     "text": [
      "[62.96 61.46]\n"
     ]
    }
   ],
   "source": [
    "Ti_array = np.array([24.80,26.20])\n",
    "Tf_array = np.array([87.76,87.66])\n",
    "T_array = Tf_array - Ti_array\n",
    "print (T_array)"
   ]
  },
  {
   "cell_type": "code",
   "execution_count": 111,
   "metadata": {},
   "outputs": [
    {
     "name": "stdout",
     "output_type": "stream",
     "text": [
      "0.0282842712474619\n"
     ]
    }
   ],
   "source": [
    "deltaTfi = .02\n",
    "uncertainT = rule3(deltaTfi,deltaTfi)\n",
    "print (uncertainT)\n",
    "deltaunT_array = np.array(uncertainT,uncertainT)"
   ]
  },
  {
   "cell_type": "code",
   "execution_count": 112,
   "metadata": {},
   "outputs": [
    {
     "name": "stdout",
     "output_type": "stream",
     "text": [
      "1.4142135623730951e-05\n"
     ]
    }
   ],
   "source": [
    "deltaLdfi = .00001\n",
    "uncertainLd = rule3(deltaLdfi,deltaLdfi)\n",
    "print (uncertainLd)\n",
    "deltaLdun_array = np.array(uncertainLd,uncertainLd)"
   ]
  },
  {
   "cell_type": "code",
   "execution_count": 113,
   "metadata": {},
   "outputs": [
    {
     "name": "stdout",
     "output_type": "stream",
     "text": [
      "[1.88177776e-05 2.71179087e-05]\n"
     ]
    }
   ],
   "source": [
    "L_array = np.array([.709,.711])\n",
    "deltaL_array = np.array([.00084,.001185])\n",
    "Lun_array = np.array([.0005,.0005])\n",
    "coefficient =colinear(deltaL_array,L_array,T_array)\n",
    "print (coefficient)"
   ]
  },
  {
   "cell_type": "markdown",
   "metadata": {},
   "source": [
    "Note that the coefficient is larger than the accepted values for copper and aluminum. I believe that this is caused from the high possiblity of of omhmeter was picking up the heat from the electric heater???"
   ]
  },
  {
   "cell_type": "code",
   "execution_count": 114,
   "metadata": {},
   "outputs": [
    {
     "name": "stdout",
     "output_type": "stream",
     "text": [
      "[3.17204252e-07 3.24434523e-07]\n"
     ]
    }
   ],
   "source": [
    "deltaco = rule4(deltaLdun_array,Lun_array,deltaunT_array,coefficient,deltaL_array,L_array,T_array)\n",
    "print (deltaco)"
   ]
  },
  {
   "cell_type": "code",
   "execution_count": 116,
   "metadata": {},
   "outputs": [
    {
     "name": "stdout",
     "output_type": "stream",
     "text": [
      "[1.91349819e-05 2.74423432e-05]\n",
      "[1.85005734e-05 2.67934741e-05]\n"
     ]
    }
   ],
   "source": [
    "uncertainty_max = deltaco + coefficient\n",
    "print(uncertainty_max)\n",
    "uncertainty_min = coefficient - deltaco\n",
    "print(uncertainty_min)"
   ]
  },
  {
   "cell_type": "code",
   "execution_count": null,
   "metadata": {},
   "outputs": [],
   "source": []
  }
 ],
 "metadata": {
  "kernelspec": {
   "display_name": "Python 3",
   "language": "python",
   "name": "python3"
  },
  "language_info": {
   "codemirror_mode": {
    "name": "ipython",
    "version": 3
   },
   "file_extension": ".py",
   "mimetype": "text/x-python",
   "name": "python",
   "nbconvert_exporter": "python",
   "pygments_lexer": "ipython3",
   "version": "3.7.3"
  }
 },
 "nbformat": 4,
 "nbformat_minor": 2
}
